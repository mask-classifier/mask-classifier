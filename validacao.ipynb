{
 "cells": [
  {
   "cell_type": "markdown",
   "metadata": {},
   "source": [
    "# Imports"
   ]
  },
  {
   "cell_type": "code",
   "execution_count": 1,
   "metadata": {},
   "outputs": [],
   "source": [
    "from tensorflow.keras.applications.mobilenet import preprocess_input\n",
    "from tensorflow.keras.preprocessing.image import img_to_array\n",
    "from tensorflow.keras.preprocessing.image import load_img\n",
    "from tensorflow.keras.utils import to_categorical\n",
    "from tensorflow.keras.models import load_model\n",
    "from sklearn.preprocessing import LabelBinarizer\n",
    "from sklearn.model_selection import train_test_split\n",
    "from sklearn.metrics import classification_report, confusion_matrix, plot_confusion_matrix\n",
    "from imutils import paths\n",
    "from os.path import dirname, join\n",
    "import imutils\n",
    "import seaborn as sn\n",
    "import pandas as pd\n",
    "import matplotlib.pyplot as plt\n",
    "%matplotlib inline\n",
    "import os\n",
    "import argparse\n",
    "import dlib\n",
    "import numpy as np"
   ]
  },
  {
   "cell_type": "markdown",
   "metadata": {},
   "source": [
    "# Importando o dataset de validação e o modelo"
   ]
  },
  {
   "cell_type": "code",
   "execution_count": 2,
   "metadata": {},
   "outputs": [],
   "source": [
    "caminho = 'datasetreal/'\n",
    "files = list(paths.list_images(caminho))\n",
    "\n",
    "data = []\n",
    "labels = []\n",
    "\n",
    "for file in files:\n",
    "    label = file.split(os.path.sep)[-2]\n",
    "\n",
    "    image = load_img(file, target_size=(224, 224))\n",
    "    image = img_to_array(image)\n",
    "    image = preprocess_input(image)\n",
    "\n",
    "    data.append(image)\n",
    "    labels.append(label)\n",
    "data = np.array(data, dtype=\"float32\")\n",
    "labels = np.array(labels)\n",
    "\n",
    "\n",
    "lb = LabelBinarizer()\n",
    "labels = lb.fit_transform(labels)\n",
    "labels = to_categorical(labels)\n",
    "\n",
    "\n",
    "(trainX, testX, trainY, testY) = train_test_split(data, labels,test_size=.95, stratify=labels, random_state=42)\n",
    "\n",
    "model = load_model('modelo/modelo.h5')"
   ]
  },
  {
   "cell_type": "markdown",
   "metadata": {},
   "source": [
    "# Salvando as predições na variável preds"
   ]
  },
  {
   "cell_type": "code",
   "execution_count": 3,
   "metadata": {
    "scrolled": false
   },
   "outputs": [],
   "source": [
    "preds = model.predict(testX, batch_size=32)\n",
    "preds = np.argmax(preds, axis=1)"
   ]
  },
  {
   "cell_type": "markdown",
   "metadata": {},
   "source": [
    "# Realizando o Relatório de Classificação"
   ]
  },
  {
   "cell_type": "code",
   "execution_count": 4,
   "metadata": {},
   "outputs": [
    {
     "name": "stdout",
     "output_type": "stream",
     "text": [
      "Avaliando Rede: Relatório de Classificação\n",
      "                 precision    recall  f1-score   support\n",
      "\n",
      "datasetreal/com       1.00      1.00      1.00        47\n",
      "datasetreal/sem       1.00      1.00      1.00        48\n",
      "\n",
      "       accuracy                           1.00        95\n",
      "      macro avg       1.00      1.00      1.00        95\n",
      "   weighted avg       1.00      1.00      1.00        95\n",
      "\n"
     ]
    }
   ],
   "source": [
    "print(\"Avaliando Rede: Relatório de Classificação\")\n",
    "print(classification_report(testY.argmax(axis=1), preds, target_names=lb.classes_))"
   ]
  },
  {
   "cell_type": "markdown",
   "metadata": {},
   "source": [
    "# Realizando a Matriz de Confusão"
   ]
  },
  {
   "cell_type": "code",
   "execution_count": 5,
   "metadata": {},
   "outputs": [
    {
     "data": {
      "text/plain": [
       "<AxesSubplot:>"
      ]
     },
     "execution_count": 5,
     "metadata": {},
     "output_type": "execute_result"
    },
    {
     "data": {
      "image/png": "[encoded data removed]",
      "text/plain": [
       "<Figure size 144x144 with 2 Axes>"
      ]
     },
     "metadata": {
      "needs_background": "light"
     },
     "output_type": "display_data"
    }
   ],
   "source": [
    "confusao = confusion_matrix(testY.argmax(axis=1), preds)\n",
    "df_cm = pd.DataFrame(confusao, index = ['com', 'sem'],\n",
    "                  columns = ['com', 'sem'])\n",
    "plt.figure(figsize = (2,2))\n",
    "sn.heatmap(df_cm, annot=True)"
   ]
  }
 ],
 "metadata": {
  "kernelspec": {
   "display_name": "Python 3",
   "language": "python",
   "name": "python3"
  },
  "language_info": {
   "codemirror_mode": {
    "name": "ipython",
    "version": 3
   },
   "file_extension": ".py",
   "mimetype": "text/x-python",
   "name": "python",
   "nbconvert_exporter": "python",
   "pygments_lexer": "ipython3",
   "version": "3.6.6"
  }
 },
 "nbformat": 4,
 "nbformat_minor": 2
}
