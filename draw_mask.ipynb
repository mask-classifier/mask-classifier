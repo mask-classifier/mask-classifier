{
 "cells": [
  {
   "cell_type": "markdown",
   "metadata": {},
   "source": [
    "# Imports"
   ]
  },
  {
   "cell_type": "code",
   "execution_count": 1,
   "metadata": {
    "scrolled": true
   },
   "outputs": [],
   "source": [
    "import numpy as np\n",
    "import cv2\n",
    "import matplotlib.pyplot as plt\n",
    "%matplotlib inline\n",
    "import random as rd\n",
    "from mlxtend.image import extract_face_landmarks\n",
    "from imutils import paths"
   ]
  },
  {
   "cell_type": "markdown",
   "metadata": {},
   "source": [
    "# A função draw_mask()"
   ]
  },
  {
   "cell_type": "code",
   "execution_count": 2,
   "metadata": {},
   "outputs": [],
   "source": [
    "def draw_mask(img, ponto1=2, ponto2=15, ponto3=29, gray=80, random_color=True, color=False, padrao=None):\n",
    "    '''Desenha máscara facial sobre nariz e boca detectada em imagem.\n",
    "\n",
    "      Parâmetros\n",
    "      ----------\n",
    "      img : list\n",
    "            Imagem sobre a qual será desenhada a máscara facial.\n",
    "      ponto1 : int, optional\n",
    "            Valor inteiro entre 0 e 67. Representa o landmark do lado esquerdo do rosto.\n",
    "            default=2\n",
    "      ponto2 : int, optional\n",
    "            Valor inteiro entre 0 e 67. Representa o landmark do lado direito do rosto.\n",
    "            default=15\n",
    "      ponto3 : int, optional\n",
    "            Valor inteiro entre 0 e 67. Representa o landmark da ponta do nariz.\n",
    "            default=29\n",
    "      gray : int, optional\n",
    "            Valor inteiro entre 0 e 255. Representa a cor em escala de cinza da máscara que será desenhada sobre o rosto.\n",
    "            default=80\n",
    "      random_color : bool, optional\n",
    "            Valor boolean que determina se a cor da máscara facial será aleatória.\n",
    "            default=True\n",
    "      color : bool, optional\n",
    "            Valor boolean que determina se a máscara facial será colorida.\n",
    "            default=False\n",
    "      padrao : array, shape[h, w, ?]\n",
    "            Imagem que determina qual será o padrão/textura que será desenhado sobre a máscara facial.\n",
    "            default=None\n",
    "\n",
    "      Retorno\n",
    "      -------\n",
    "      imagem : array, shape[h, w, ?]\n",
    "            Mesma imagem da entrada, porém, com um desenho de poligono colorido/cinza\n",
    "            no lugar onde a boca e nariz foram identificados.\n",
    "    '''\n",
    "  \n",
    "    if random_color and color:\n",
    "        color = [rd.randint(0,160),rd.randint(0,160),rd.randint(0,160)]\n",
    "    elif random_color and color==False:\n",
    "        gray=rd.randint(0,160)\n",
    "        color = (gray, gray, gray)\n",
    "    elif random_color == False:\n",
    "        color = (gray, gray, gray)\n",
    "  \n",
    "    imagem = img.copy()\n",
    "    landmark = extract_face_landmarks(imagem) # Retira os marcadores dos pontos do rosto para uma variavel em array\n",
    "    if landmark is not None:\n",
    "        pts1 = landmark[ponto1:ponto2]\n",
    "        pts2 = np.array([landmark[ponto3], landmark[14], landmark[ponto1]], np.int32)\n",
    "        pts = [pts1]+[pts2]\n",
    "\n",
    "        if padrao is not None and img.shape == padrao.shape:\n",
    "            mask = np.zeros_like(imagem,dtype=np.uint8)\n",
    "            cv2.fillPoly(mask,pts,(255,255,255))\n",
    "            inv_mask= cv2.bitwise_not(mask)\n",
    "            new = cv2.bitwise_or(padrao,inv_mask)\n",
    "            new = cv2.bitwise_not(new)\n",
    "\n",
    "            cv2.fillPoly(imagem, pts, color) #desenha a máscara facial\n",
    "            padronizado = cv2.bitwise_or(imagem,new)\n",
    "            return padronizado\n",
    "        else:\n",
    "            cv2.fillPoly(imagem, pts, color) #desenha a máscara facial\n",
    "            return imagem\n",
    "    else:\n",
    "        pass"
   ]
  },
  {
   "cell_type": "markdown",
   "metadata": {},
   "source": [
    "# A célula a seguir se refere à preparação dos padrões/texturas que serão sobrepostos às máscaras artificiais."
   ]
  },
  {
   "cell_type": "code",
   "execution_count": 3,
   "metadata": {},
   "outputs": [],
   "source": [
    "caminho_padroes = 'padroes/padroes_originais/'\n",
    "files_padroes = list(paths.list_images(caminho_padroes))\n",
    "top, bottom, left, right = [150]*4\n",
    "\n",
    "padroes = [cv2.imread(x, cv2.IMREAD_GRAYSCALE) for x in files_padroes]\n",
    "a=1\n",
    "for i in padroes:\n",
    "  padrao = cv2.copyMakeBorder(i, top, bottom, left, right, cv2.BORDER_REFLECT)\n",
    "  padrao = cv2.resize(padrao,(224,224))\n",
    "  padrao = cv2.cvtColor(padrao, cv2.COLOR_GRAY2RGB)-200\n",
    "  caminho0 = \"padroes/padroes_reduzidos/\" + str(a) + '.jpg'\n",
    "  cv2.imwrite(caminho0, padrao)\n",
    "  a+=1"
   ]
  },
  {
   "cell_type": "markdown",
   "metadata": {},
   "source": [
    "# A célula a seguir se refere à execução da função draw_mask() no dataset e a separação de 50% de imagens com máscara e 50% sem máscara"
   ]
  },
  {
   "cell_type": "code",
   "execution_count": 4,
   "metadata": {
    "scrolled": true
   },
   "outputs": [
    {
     "name": "stderr",
     "output_type": "stream",
     "text": [
      "C:\\Users\\jarth\\anaconda3\\envs\\mascaras\\lib\\site-packages\\mlxtend\\image\\extract_face_landmarks.py:66: UserWarning: No face detected.\n",
      "  warnings.warn('No face detected.')\n"
     ]
    }
   ],
   "source": [
    "caminho = 'datasets/dataset_reduzido/'\n",
    "caminho_padroes = 'padroes/padroes_reduzidos/'\n",
    "files = list(paths.list_images(caminho))\n",
    "files_padroes = list(paths.list_images(caminho_padroes))\n",
    "rd.shuffle(files)\n",
    "\n",
    "padroes = [cv2.imread(x) for x in files_padroes]\n",
    "\n",
    "num = len(files)\n",
    "a=1\n",
    "\n",
    "for file in files:\n",
    "    i = cv2.imread(file)\n",
    "\n",
    "    if a <= num*0.5:\n",
    "        caminho = \"datasets/dataset_final/com_mascara/\" + str(a) + '.jpg'\n",
    "\n",
    "        if a <= num*0.375:\n",
    "            if i is not None:\n",
    "                i = draw_mask(i, padrao=rd.choice(padroes))\n",
    "        elif a > num*0.375:\n",
    "            if i is not None:\n",
    "                i = draw_mask(i, color=True, padrao=rd.choice(padroes))\n",
    "    \n",
    "    elif a > num*0.5:\n",
    "        caminho = \"datasets/dataset_final/sem_mascara/\" + str(a) + '.jpg'\n",
    "\n",
    "    if i is not None:\n",
    "        cv2.imwrite(caminho, i)\n",
    "\n",
    "    a+=1"
   ]
  }
 ],
 "metadata": {
  "kernelspec": {
   "display_name": "Python 3",
   "language": "python",
   "name": "python3"
  },
  "language_info": {
   "codemirror_mode": {
    "name": "ipython",
    "version": 3
   },
   "file_extension": ".py",
   "mimetype": "text/x-python",
   "name": "python",
   "nbconvert_exporter": "python",
   "pygments_lexer": "ipython3",
   "version": "3.6.6"
  }
 },
 "nbformat": 4,
 "nbformat_minor": 2
}
