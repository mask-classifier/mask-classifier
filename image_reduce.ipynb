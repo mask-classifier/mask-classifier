{
 "cells": [
  {
   "cell_type": "markdown",
   "metadata": {},
   "source": [
    "# Imports"
   ]
  },
  {
   "cell_type": "code",
   "execution_count": 1,
   "metadata": {},
   "outputs": [],
   "source": [
    "import numpy as np\n",
    "import cv2\n",
    "\n",
    "from imutils import paths"
   ]
  },
  {
   "cell_type": "markdown",
   "metadata": {},
   "source": [
    "# Padronização do tamanho das imagens para 224x224"
   ]
  },
  {
   "cell_type": "code",
   "execution_count": 2,
   "metadata": {},
   "outputs": [],
   "source": [
    "caminho = 'dataset/'\n",
    "n_w = 224\n",
    "n_h = 224\n",
    "files = list(paths.list_images(caminho))\n",
    "num = len(files)\n",
    "a=1\n",
    "\n",
    "for file in files:\n",
    "  i = cv2.imread(file)\n",
    "  reduz = cv2.resize(i, (n_w, n_h), i, interpolation=cv2.INTER_AREA)\n",
    "\n",
    "  caminho0 = \"reduzido/\" + str(a) + '.jpg'\n",
    "  cv2.imwrite(caminho0, reduz)\n",
    "  a+=1"
   ]
  }
 ],
 "metadata": {
  "kernelspec": {
   "display_name": "Python 3",
   "language": "python",
   "name": "python3"
  },
  "language_info": {
   "codemirror_mode": {
    "name": "ipython",
    "version": 3
   },
   "file_extension": ".py",
   "mimetype": "text/x-python",
   "name": "python",
   "nbconvert_exporter": "python",
   "pygments_lexer": "ipython3",
   "version": "3.6.6"
  }
 },
 "nbformat": 4,
 "nbformat_minor": 2
}
