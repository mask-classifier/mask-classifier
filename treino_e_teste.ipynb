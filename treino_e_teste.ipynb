{
 "cells": [
  {
   "cell_type": "markdown",
   "metadata": {},
   "source": [
    "# Imports"
   ]
  },
  {
   "cell_type": "code",
   "execution_count": 13,
   "metadata": {},
   "outputs": [],
   "source": [
    "from tensorflow.keras.preprocessing.image import ImageDataGenerator\n",
    "from tensorflow.keras.applications import MobileNet\n",
    "from tensorflow.keras.layers import AveragePooling2D, Dropout, Flatten, Dense, Input\n",
    "from tensorflow.keras.models import Model, load_model\n",
    "from tensorflow.keras.optimizers import Adam\n",
    "from tensorflow.keras.applications.mobilenet import preprocess_input\n",
    "from tensorflow.keras.preprocessing.image import img_to_array, load_img\n",
    "from tensorflow.keras.utils import to_categorical\n",
    "from tensorflow.keras.callbacks import EarlyStopping\n",
    "from sklearn.preprocessing import LabelBinarizer\n",
    "from sklearn.model_selection import train_test_split\n",
    "from sklearn.metrics import classification_report, confusion_matrix, plot_confusion_matrix\n",
    "from imutils import paths\n",
    "import os\n",
    "import matplotlib.pyplot as plt\n",
    "%matplotlib inline\n",
    "import numpy as np\n",
    "from numpy import argmax\n",
    "import pandas as pd\n",
    "import cv2\n",
    "import seaborn as sn"
   ]
  },
  {
   "cell_type": "markdown",
   "metadata": {},
   "source": [
    "# Importando e preparando o dataset e estabelecendo rótulos"
   ]
  },
  {
   "cell_type": "code",
   "execution_count": 2,
   "metadata": {},
   "outputs": [],
   "source": [
    "caminho = 'dataset_final/'\n",
    "files = list(paths.list_images(caminho))\n",
    "\n",
    "data = []\n",
    "labels = []\n",
    "\n",
    "for file in files:\n",
    "    label = file.split(os.path.sep)[-2]\n",
    "    \n",
    "    image = load_img(file, target_size=(224, 224)) # carrega as imagens e estabelece o tamanho desejado de 224x224\n",
    "    \n",
    "    image = img_to_array(image) # transforma as imagens em array\n",
    "    \n",
    "    image = preprocess_input(image) # retorna um numpy array float32\n",
    "\n",
    "    data.append(image)\n",
    "    labels.append(label)\n",
    "\n",
    "data = np.array(data, dtype=\"float32\")\n",
    "labels = np.array(labels)\n",
    "\n",
    "lb = LabelBinarizer()\n",
    "\n",
    "labels = lb.fit_transform(labels) # transforma os labels em um array de 0 e 1\n",
    "\n",
    "labels = to_categorical(labels) # transforma os labels em one-hot\n",
    "\n",
    "(trainX, testX, trainY, testY) = train_test_split(data, labels,test_size=0.90, stratify=labels, random_state=42)"
   ]
  },
  {
   "cell_type": "markdown",
   "metadata": {},
   "source": [
    "# Estabelecendo hiperparâmetros: Learning Rate, Batch Size e Epochs"
   ]
  },
  {
   "cell_type": "code",
   "execution_count": 3,
   "metadata": {},
   "outputs": [],
   "source": [
    "INIT_LR = 1e-4\n",
    "BS = 20\n",
    "EPOCHS = 32"
   ]
  },
  {
   "cell_type": "markdown",
   "metadata": {},
   "source": [
    "# Carrega a rede da MobileNet sem o topo"
   ]
  },
  {
   "cell_type": "code",
   "execution_count": 4,
   "metadata": {},
   "outputs": [
    {
     "name": "stdout",
     "output_type": "stream",
     "text": [
      "WARNING:tensorflow:`input_shape` is undefined or non-square, or `rows` is not in [128, 160, 192, 224]. Weights for input shape (224, 224) will be loaded as the default.\n"
     ]
    }
   ],
   "source": [
    "baseModel = MobileNet(weights=\"imagenet\", include_top=False,input_tensor=Input(shape=(224, 224, 3)))"
   ]
  },
  {
   "cell_type": "markdown",
   "metadata": {},
   "source": [
    "# Fazendo as camadas do topo"
   ]
  },
  {
   "cell_type": "code",
   "execution_count": 5,
   "metadata": {
    "scrolled": false
   },
   "outputs": [],
   "source": [
    "headModel = baseModel.output\n",
    "headModel = AveragePooling2D(pool_size=(7, 7))(headModel)\n",
    "headModel = Flatten(name=\"flatten\")(headModel)\n",
    "headModel = Dense(128, activation=\"relu\")(headModel)\n",
    "headModel = Dropout(0.5)(headModel)\n",
    "headModel = Dense(2, activation=\"softmax\")(headModel)"
   ]
  },
  {
   "cell_type": "markdown",
   "metadata": {},
   "source": [
    "# Colocando o topo do nosso modelo sobre o modelo base"
   ]
  },
  {
   "cell_type": "code",
   "execution_count": 6,
   "metadata": {},
   "outputs": [],
   "source": [
    "model = Model(inputs=baseModel.input, outputs=headModel)"
   ]
  },
  {
   "cell_type": "markdown",
   "metadata": {},
   "source": [
    "# Congelando as camadas no modelo base para elas não serem atualizadas durante o primeiro processo de treinamento"
   ]
  },
  {
   "cell_type": "code",
   "execution_count": 7,
   "metadata": {},
   "outputs": [],
   "source": [
    "for layer in baseModel.layers:\n",
    "    layer.trainable = False"
   ]
  },
  {
   "cell_type": "markdown",
   "metadata": {},
   "source": [
    "# Compilando o modelo"
   ]
  },
  {
   "cell_type": "code",
   "execution_count": 8,
   "metadata": {},
   "outputs": [
    {
     "name": "stdout",
     "output_type": "stream",
     "text": [
      "Epoch 1/32\n",
      "50/50 [==============================] - 11s 197ms/step - loss: 0.6023 - accuracy: 0.7444\n",
      "Epoch 2/32\n",
      "50/50 [==============================] - 10s 199ms/step - loss: 0.2320 - accuracy: 0.9446\n",
      "Epoch 3/32\n",
      "50/50 [==============================] - 10s 202ms/step - loss: 0.1156 - accuracy: 0.9822\n",
      "Epoch 4/32\n",
      "50/50 [==============================] - 10s 200ms/step - loss: 0.0696 - accuracy: 0.9930\n",
      "Epoch 5/32\n",
      "50/50 [==============================] - 10s 209ms/step - loss: 0.0590 - accuracy: 0.9901\n",
      "Epoch 6/32\n",
      "50/50 [==============================] - 10s 199ms/step - loss: 0.0397 - accuracy: 0.9930\n",
      "Epoch 7/32\n",
      "50/50 [==============================] - 10s 209ms/step - loss: 0.0319 - accuracy: 0.9949\n",
      "Epoch 8/32\n",
      "50/50 [==============================] - 10s 197ms/step - loss: 0.0229 - accuracy: 0.9973\n",
      "Epoch 9/32\n",
      "50/50 [==============================] - 10s 200ms/step - loss: 0.0195 - accuracy: 0.9980\n",
      "Epoch 10/32\n",
      "50/50 [==============================] - 10s 195ms/step - loss: 0.0230 - accuracy: 0.9998\n",
      "Epoch 11/32\n",
      "50/50 [==============================] - 10s 198ms/step - loss: 0.0169 - accuracy: 0.9990\n",
      "Epoch 12/32\n",
      "50/50 [==============================] - 10s 199ms/step - loss: 0.0171 - accuracy: 0.9993\n",
      "Epoch 13/32\n",
      "50/50 [==============================] - 10s 197ms/step - loss: 0.0129 - accuracy: 1.0000\n",
      "Epoch 14/32\n",
      "50/50 [==============================] - 11s 216ms/step - loss: 0.0085 - accuracy: 1.0000\n",
      "Epoch 15/32\n",
      "50/50 [==============================] - 11s 213ms/step - loss: 0.0095 - accuracy: 1.0000\n",
      "Epoch 16/32\n",
      "50/50 [==============================] - 10s 204ms/step - loss: 0.0100 - accuracy: 0.9992\n",
      "Epoch 17/32\n",
      "50/50 [==============================] - 10s 202ms/step - loss: 0.0123 - accuracy: 0.9979\n",
      "Epoch 18/32\n",
      "50/50 [==============================] - 9s 185ms/step - loss: 0.0123 - accuracy: 0.9978\n",
      "Epoch 19/32\n",
      "50/50 [==============================] - 9s 184ms/step - loss: 0.0100 - accuracy: 1.0000\n",
      "Epoch 20/32\n",
      "50/50 [==============================] - 9s 187ms/step - loss: 0.0067 - accuracy: 0.9984\n",
      "Epoch 21/32\n",
      "50/50 [==============================] - 10s 191ms/step - loss: 0.0053 - accuracy: 0.9995\n",
      "Epoch 22/32\n",
      "50/50 [==============================] - 10s 195ms/step - loss: 0.0039 - accuracy: 1.0000\n",
      "Epoch 23/32\n",
      "50/50 [==============================] - 10s 190ms/step - loss: 0.0044 - accuracy: 1.0000\n",
      "Epoch 24/32\n",
      "50/50 [==============================] - 9s 187ms/step - loss: 0.0035 - accuracy: 1.0000\n",
      "Epoch 25/32\n",
      "50/50 [==============================] - 10s 192ms/step - loss: 0.0042 - accuracy: 0.9993\n",
      "Epoch 26/32\n",
      "50/50 [==============================] - 10s 192ms/step - loss: 0.0027 - accuracy: 1.0000\n",
      "Epoch 27/32\n",
      "50/50 [==============================] - 10s 193ms/step - loss: 0.0045 - accuracy: 1.0000\n",
      "Epoch 28/32\n",
      "50/50 [==============================] - 10s 196ms/step - loss: 0.0030 - accuracy: 1.0000\n",
      "Epoch 29/32\n",
      "50/50 [==============================] - 10s 191ms/step - loss: 0.0042 - accuracy: 1.0000\n",
      "Epoch 30/32\n",
      "50/50 [==============================] - 10s 196ms/step - loss: 0.0020 - accuracy: 1.0000\n",
      "Epoch 31/32\n",
      "50/50 [==============================] - 10s 196ms/step - loss: 0.0038 - accuracy: 1.0000\n",
      "Epoch 32/32\n",
      "50/50 [==============================] - 9s 182ms/step - loss: 0.0030 - accuracy: 1.0000\n"
     ]
    }
   ],
   "source": [
    "opt = Adam(lr=INIT_LR, decay=INIT_LR / BS)\n",
    "model.compile(loss=\"binary_crossentropy\", optimizer=opt, metrics=[\"accuracy\"])\n",
    "\n",
    "callback = EarlyStopping(monitor='accuracy', patience=5)\n",
    "\n",
    "H = model.fit(trainX, trainY, BS, EPOCHS)"
   ]
  },
  {
   "cell_type": "markdown",
   "metadata": {},
   "source": [
    "# Salvando o modelo treinado"
   ]
  },
  {
   "cell_type": "code",
   "execution_count": 9,
   "metadata": {},
   "outputs": [],
   "source": [
    "model.save('modelo/modelo.h5')"
   ]
  },
  {
   "cell_type": "markdown",
   "metadata": {},
   "source": [
    "# Teste"
   ]
  },
  {
   "cell_type": "markdown",
   "metadata": {},
   "source": [
    "## Relatório de classificação"
   ]
  },
  {
   "cell_type": "code",
   "execution_count": 14,
   "metadata": {},
   "outputs": [
    {
     "data": {
      "text/plain": [
       "<AxesSubplot:>"
      ]
     },
     "execution_count": 14,
     "metadata": {},
     "output_type": "execute_result"
    },
    {
     "data": {
      "image/png": "[encoded data removed]",
      "text/plain": [
       "<Figure size 432x288 with 2 Axes>"
      ]
     },
     "metadata": {
      "needs_background": "light"
     },
     "output_type": "display_data"
    }
   ],
   "source": [
    "preds = model.predict(testX, batch_size=32)\n",
    "preds = np.argmax(preds, axis=1)\n",
    "labels = np.arange(2)\n",
    "clf_report = classification_report(testY.argmax(axis=1),\n",
    "                                   preds,\n",
    "                                   labels=labels,\n",
    "                                   target_names=lb.classes_,\n",
    "                                   output_dict=True)\n",
    "sn.heatmap(pd.DataFrame(clf_report).iloc[:-1, :].T, annot=True)"
   ]
  },
  {
   "cell_type": "markdown",
   "metadata": {},
   "source": [
    "## Matriz de confusão"
   ]
  },
  {
   "cell_type": "code",
   "execution_count": 15,
   "metadata": {},
   "outputs": [
    {
     "data": {
      "text/plain": [
       "Text(15.0, 0.5, 'Valores Reais')"
      ]
     },
     "execution_count": 15,
     "metadata": {},
     "output_type": "execute_result"
    },
    {
     "data": {
      "image/png": "[encoded data removed]",
      "text/plain": [
       "<Figure size 288x288 with 1 Axes>"
      ]
     },
     "metadata": {
      "needs_background": "light"
     },
     "output_type": "display_data"
    }
   ],
   "source": [
    "confusao = confusion_matrix(testY.argmax(axis=1), preds)\n",
    "df_cm = pd.DataFrame(confusao,\n",
    "                     index = ['com', 'sem'],\n",
    "                     columns = ['com', 'sem'])\n",
    "plt.figure(figsize = (4,4))\n",
    "sn.heatmap(df_cm,\n",
    "           cbar=False,\n",
    "           annot=True)\n",
    "plt.xlabel(\"Valores Preditos\", fontsize=15)\n",
    "plt.ylabel(\"Valores Reais\", fontsize=15)"
   ]
  }
 ],
 "metadata": {
  "kernelspec": {
   "display_name": "Python 3",
   "language": "python",
   "name": "python3"
  },
  "language_info": {
   "codemirror_mode": {
    "name": "ipython",
    "version": 3
   },
   "file_extension": ".py",
   "mimetype": "text/x-python",
   "name": "python",
   "nbconvert_exporter": "python",
   "pygments_lexer": "ipython3",
   "version": "3.6.6"
  }
 },
 "nbformat": 4,
 "nbformat_minor": 2
}
